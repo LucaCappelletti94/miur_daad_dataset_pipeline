{
 "cells": [
  {
   "cell_type": "code",
   "execution_count": 1,
   "metadata": {},
   "outputs": [
    {
     "name": "stderr",
     "output_type": "stream",
     "text": [
      "Using TensorFlow backend.\n"
     ]
    }
   ],
   "source": [
    "import pandas as pd\n",
    "import numpy as np\n",
    "from distutils.dir_util import copy_tree\n",
    "from miur_daad_dataset_pipeline.utils import ungzip_data, get_cell_lines\n",
    "from auto_tqdm import tqdm\n",
    "from IPython.display import display"
   ]
  },
  {
   "cell_type": "code",
   "execution_count": 2,
   "metadata": {},
   "outputs": [],
   "source": [
    "dataset = \"../miur_daad_dataset_pipeline/dataset/\"\n",
    "test_dataset = \"../test_dataset\"\n",
    "percentage = 0.005"
   ]
  },
  {
   "cell_type": "code",
   "execution_count": 3,
   "metadata": {},
   "outputs": [
    {
     "data": {
      "text/plain": [
       "['../test_dataset/regions/HepG2.bed.gz',\n",
       " '../test_dataset/regions/GM12878.bed.gz',\n",
       " '../test_dataset/regions/HelaS3.bed.gz',\n",
       " '../test_dataset/regions/K562.bed.gz',\n",
       " '../test_dataset/.DS_Store',\n",
       " '../test_dataset/classes/GM12878.csv.gz',\n",
       " '../test_dataset/classes/HepG2.csv.gz',\n",
       " '../test_dataset/classes/K562.csv.gz',\n",
       " '../test_dataset/classes/HelaS3.csv.gz',\n",
       " '../test_dataset/epigenomic_data/.DS_Store',\n",
       " '../test_dataset/epigenomic_data/GM12878.csv.gz',\n",
       " '../test_dataset/epigenomic_data/HepG2.csv.gz',\n",
       " '../test_dataset/epigenomic_data/K562.csv.gz',\n",
       " '../test_dataset/epigenomic_data/HelaS3.csv.gz',\n",
       " '../test_dataset/tasks.json',\n",
       " '../test_dataset/holdouts.json']"
      ]
     },
     "execution_count": 3,
     "metadata": {},
     "output_type": "execute_result"
    }
   ],
   "source": [
    "copy_tree(dataset, test_dataset)"
   ]
  },
  {
   "cell_type": "code",
   "execution_count": 4,
   "metadata": {},
   "outputs": [
    {
     "data": {
      "application/vnd.jupyter.widget-view+json": {
       "model_id": "",
       "version_major": 2,
       "version_minor": 0
      },
      "text/plain": [
       "HBox(children=(IntProgress(value=0, description='Expanding data', layout=Layout(flex='2'), max=12, style=Progr…"
      ]
     },
     "metadata": {},
     "output_type": "display_data"
    },
    {
     "name": "stdout",
     "output_type": "stream",
     "text": [
      "\r"
     ]
    }
   ],
   "source": [
    "ungzip_data(test_dataset)"
   ]
  },
  {
   "cell_type": "code",
   "execution_count": null,
   "metadata": {},
   "outputs": [],
   "source": [
    "def reduce(percentage:float, cell_line:str, target:str):\n",
    "    labels_path = \"{target}/classes/{cell_line}.csv\".format(\n",
    "        target=target,\n",
    "        cell_line=cell_line\n",
    "    )\n",
    "    epigenomic_data_path = \"{target}/epigenomic_data/{cell_line}.csv\".format(\n",
    "        target=target,\n",
    "        cell_line=cell_line\n",
    "    )\n",
    "    regions_path = \"{target}/regions/{cell_line}.bed\".format(\n",
    "        target=target,\n",
    "        cell_line=cell_line\n",
    "    )\n",
    "    labels = pd.read_csv(labels_path, header=None)\n",
    "    epigenomic_data = pd.read_csv(epigenomic_data_path, index_col=0)\n",
    "    regions = pd.read_csv(regions_path, header=None, sep=\"\\t\")\n",
    "    mask = np.zeros(labels.shape)\n",
    "    mask[:int(mask.size*percentage)] = 1\n",
    "    mask = mask.astype(bool)\n",
    "    np.random.shuffle(mask)\n",
    "    labels[mask].to_csv(labels_path, index=None, header=None)\n",
    "    epigenomic_data[mask].to_csv(epigenomic_data_path)\n",
    "    regions[mask].to_csv(regions_path, sep=\"\\t\", index=None, header=None)"
   ]
  },
  {
   "cell_type": "code",
   "execution_count": null,
   "metadata": {},
   "outputs": [
    {
     "data": {
      "application/vnd.jupyter.widget-view+json": {
       "model_id": "811defaf4c88497d9dc6711e1ca0c41c",
       "version_major": 2,
       "version_minor": 0
      },
      "text/plain": [
       "HBox(children=(IntProgress(value=0, layout=Layout(flex='2'), max=4), HTML(value='')), layout=Layout(display='i…"
      ]
     },
     "metadata": {},
     "output_type": "display_data"
    }
   ],
   "source": [
    "for cell_line in tqdm(get_cell_lines(test_dataset)):\n",
    "    reduce(percentage, cell_line, test_dataset)"
   ]
  },
  {
   "cell_type": "code",
   "execution_count": null,
   "metadata": {},
   "outputs": [],
   "source": [
    "ungzip_data(test_dataset)"
   ]
  },
  {
   "cell_type": "code",
   "execution_count": null,
   "metadata": {},
   "outputs": [],
   "source": [
    "import gzip\n",
    "import shutil\n",
    "\n",
    "def compress(path:str):\n",
    "    with open(path, 'rb') as f_in:\n",
    "        with gzip.open(\"{path}.gz\".format(path=path), 'wb') as f_out:\n",
    "            f_out.write(f_in.read())\n",
    "    os.remove(path)"
   ]
  },
  {
   "cell_type": "code",
   "execution_count": null,
   "metadata": {},
   "outputs": [],
   "source": [
    "from .ungzip import ungzip\n",
    "import os\n",
    "from typing import List\n",
    "from auto_tqdm import tqdm\n",
    "from glob import glob\n",
    "from multiprocessing import cpu_count, Pool\n",
    "\n",
    "def compress_data(target: str):\n",
    "    paths = list(glob('{target}/**/*.csv'.format(target=target), recursive=True))\n",
    "    paths += list(glob('{target}/**/*.bed'.format(target=target), recursive=True))\n",
    "    with Pool(cpu_count()) as p:\n",
    "        list(tqdm(p.imap(compress, paths), desc=\"Compress data\", total=len(paths)))"
   ]
  },
  {
   "cell_type": "code",
   "execution_count": null,
   "metadata": {},
   "outputs": [],
   "source": [
    "compress_data(test_dataset)"
   ]
  }
 ],
 "metadata": {
  "kernelspec": {
   "display_name": "Python 3",
   "language": "python",
   "name": "python3"
  },
  "language_info": {
   "codemirror_mode": {
    "name": "ipython",
    "version": 3
   },
   "file_extension": ".py",
   "mimetype": "text/x-python",
   "name": "python",
   "nbconvert_exporter": "python",
   "pygments_lexer": "ipython3",
   "version": "3.7.1"
  }
 },
 "nbformat": 4,
 "nbformat_minor": 2
}
